{
  "cells": [
    {
      "cell_type": "markdown",
      "metadata": {
        "id": "view-in-github",
        "colab_type": "text"
      },
      "source": [
        "<a href=\"https://colab.research.google.com/github/maxim1982/python_script/blob/master/%D0%9A%D0%BE%D0%BF%D0%B8%D1%8F_%D0%B1%D0%BB%D0%BE%D0%BA%D0%BD%D0%BE%D1%82%D0%B0_%22Untitled3_ipynb%22.ipynb\" target=\"_parent\"><img src=\"https://colab.research.google.com/assets/colab-badge.svg\" alt=\"Open In Colab\"/></a>"
      ]
    },
    {
      "cell_type": "code",
      "execution_count": null,
      "metadata": {
        "colab": {
          "background_save": true
        },
        "id": "cXLIziVp7q_a"
      },
      "outputs": [],
      "source": [
        "!pip install -q -U kaggle_environments\n"
      ]
    },
    {
      "cell_type": "code",
      "execution_count": null,
      "metadata": {
        "id": "TxZx6hDk8dGT"
      },
      "outputs": [],
      "source": [
        "\n",
        "import numpy as np\n",
        "import pandas as pd\n",
        "import random\n",
        "\n",
        "import matplotlib.pyplot as plt\n",
        "import seaborn as sns\n",
        "\n",
        "from kaggle_environments import make, evaluate"
      ]
    },
    {
      "cell_type": "code",
      "execution_count": null,
      "metadata": {
        "colab": {
          "base_uri": "https://localhost:8080/"
        },
        "id": "3qBqfzjJ70Tf",
        "outputId": "379fa4c8-460c-4b2f-8ffe-a72477909ab1"
      },
      "outputs": [
        {
          "name": "stdout",
          "output_type": "stream",
          "text": [
            "Overwriting rock_agent.py\n"
          ]
        }
      ],
      "source": [
        "%%writefile rock_agent.py\n",
        "\n",
        "def rock_agent (observation, configuration):\n",
        "    return 0 # всегда выдает значение \"камень\""
      ]
    },
    {
      "cell_type": "code",
      "execution_count": null,
      "metadata": {
        "colab": {
          "base_uri": "https://localhost:8080/"
        },
        "id": "dWV0565a78OO",
        "outputId": "38551b65-d391-4e8c-a1f0-e2226481dbeb"
      },
      "outputs": [
        {
          "name": "stdout",
          "output_type": "stream",
          "text": [
            "Overwriting random_agent.py\n"
          ]
        }
      ],
      "source": [
        "%%writefile random_agent.py\n",
        "# это случайное\n",
        "def random_agent(observation, configuration):\n",
        "  \n",
        "  import random\n",
        "  return random.randrange(0, 2) # 0, 1, 2  "
      ]
    },
    {
      "cell_type": "code",
      "execution_count": null,
      "metadata": {
        "colab": {
          "base_uri": "https://localhost:8080/"
        },
        "id": "GpE3un068IyQ",
        "outputId": "698b6c35-75f6-4d54-cad8-93412dc57f97"
      },
      "outputs": [
        {
          "data": {
            "text/plain": [
              "[[-55.0, 55.0]]"
            ]
          },
          "execution_count": 110,
          "metadata": {},
          "output_type": "execute_result"
        }
      ],
      "source": [
        "evaluate(\n",
        "    \"rps\", \n",
        "    [\"rock_agent.py\",\"random_agent.py\"],\n",
        "    configuration={\"episodeSteps\": 100}\n",
        "    )\n"
      ]
    },
    {
      "cell_type": "code",
      "execution_count": null,
      "metadata": {
        "colab": {
          "base_uri": "https://localhost:8080/"
        },
        "id": "O4PK3aWz_4OU",
        "outputId": "2607441e-3fac-4d1f-ea66-832cff380fca"
      },
      "outputs": [
        {
          "name": "stdout",
          "output_type": "stream",
          "text": [
            "Overwriting round_steps_0_1_agent.py\n"
          ]
        }
      ],
      "source": [
        "%%writefile round_steps_0_1_agent.py \n",
        "\n",
        "# чередуем 0,1\n",
        "\n",
        "def round_steps_0_1_agent(observation, configuration):\n",
        "  return observation.step % 2"
      ]
    },
    {
      "cell_type": "code",
      "execution_count": null,
      "metadata": {
        "colab": {
          "base_uri": "https://localhost:8080/"
        },
        "id": "ZgB7SqCP_9zr",
        "outputId": "795f3d7b-f5ad-419d-ef0b-354cb0284ed6"
      },
      "outputs": [
        {
          "data": {
            "text/plain": [
              "[[0, 0]]"
            ]
          },
          "execution_count": 112,
          "metadata": {},
          "output_type": "execute_result"
        }
      ],
      "source": [
        "evaluate(\n",
        "    \"rps\", \n",
        "    [\"round_steps_0_1_agent.py\",\"random_agent.py\"],\n",
        "    configuration={\"episodeSteps\": 100}\n",
        "    )\n"
      ]
    },
    {
      "cell_type": "code",
      "execution_count": null,
      "metadata": {
        "colab": {
          "base_uri": "https://localhost:8080/"
        },
        "id": "UrzZ8anh9GAy",
        "outputId": "46c9b1e3-8d5c-433e-b7b5-c6eec9ca78b0"
      },
      "outputs": [
        {
          "name": "stdout",
          "output_type": "stream",
          "text": [
            "Overwriting rock_or_paper_agent.py\n"
          ]
        }
      ],
      "source": [
        "%%writefile rock_or_paper_agent.py\n",
        "def rock_or_paper_agent(observation, configuration):\n",
        "  \n",
        "  import random\n",
        "  return random.choice([0,1])"
      ]
    },
    {
      "cell_type": "code",
      "execution_count": null,
      "metadata": {
        "colab": {
          "base_uri": "https://localhost:8080/"
        },
        "id": "idS_JH3N9UL-",
        "outputId": "f2284c92-5cea-4edc-f7d1-772abba2678a"
      },
      "outputs": [
        {
          "data": {
            "text/plain": [
              "[[0, 0]]"
            ]
          },
          "execution_count": 114,
          "metadata": {},
          "output_type": "execute_result"
        }
      ],
      "source": [
        "evaluate(\n",
        "    \"rps\", \n",
        "    [\"random_agent.py\", \"rock_or_paper_agent.py\"],\n",
        "    configuration={\"episodeSteps\": 100}\n",
        "    )"
      ]
    },
    {
      "cell_type": "code",
      "execution_count": null,
      "metadata": {
        "colab": {
          "base_uri": "https://localhost:8080/"
        },
        "id": "YF8ZzzOn_1Ld",
        "outputId": "5686d2a6-8394-40f6-905b-b022efbc718a"
      },
      "outputs": [
        {
          "data": {
            "text/plain": [
              "[[0, 0]]"
            ]
          },
          "execution_count": 117,
          "metadata": {},
          "output_type": "execute_result"
        }
      ],
      "source": [
        "evaluate(\n",
        "    \"rps\", \n",
        "    [\"random_agent.py\",\"rock_or_paper_agent.py\"],\n",
        "    configuration={\"episodeSteps\": 100}\n",
        "    )"
      ]
    },
    {
      "cell_type": "code",
      "execution_count": null,
      "metadata": {
        "colab": {
          "base_uri": "https://localhost:8080/"
        },
        "id": "V1-mojyX9L8s",
        "outputId": "43f6b13c-207b-4792-d063-d817c40a03a1"
      },
      "outputs": [
        {
          "name": "stdout",
          "output_type": "stream",
          "text": [
            "Overwriting scissors_or_paper.py\n"
          ]
        }
      ],
      "source": [
        "%%writefile scissors_or_paper.py \n",
        "\n",
        "# ножницы или бумага\n",
        "def scissors_or_paper(observation, configuration):\n",
        "  \n",
        "  import random\n",
        "  return random.choice([1,2])\n",
        "  "
      ]
    },
    {
      "cell_type": "code",
      "execution_count": null,
      "metadata": {
        "colab": {
          "base_uri": "https://localhost:8080/"
        },
        "id": "POfcFB6ABVsp",
        "outputId": "a13f4092-843f-4cbd-da59-e45975d9b960"
      },
      "outputs": [
        {
          "data": {
            "text/plain": [
              "[[-41.0, 41.0]]"
            ]
          },
          "execution_count": 121,
          "metadata": {},
          "output_type": "execute_result"
        }
      ],
      "source": [
        "evaluate(\n",
        "    \"rps\", \n",
        "    [\"random_agent.py\",\"scissors_or_paper.py\"],\n",
        "    configuration={\"episodeSteps\": 100}\n",
        "    )"
      ]
    }
  ],
  "metadata": {
    "colab": {
      "collapsed_sections": [],
      "provenance": [],
      "authorship_tag": "ABX9TyPqY76wbnR95pVcuu84lQR5",
      "include_colab_link": true
    },
    "kernelspec": {
      "display_name": "Python 3",
      "name": "python3"
    },
    "language_info": {
      "name": "python"
    }
  },
  "nbformat": 4,
  "nbformat_minor": 0
}